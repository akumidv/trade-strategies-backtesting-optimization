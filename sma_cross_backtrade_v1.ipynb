{
 "cells": [
  {
   "cell_type": "markdown",
   "source": [
    "# SETUP"
   ],
   "metadata": {
    "collapsed": false,
    "pycharm": {
     "name": "#%% md\n"
    }
   }
  },
  {
   "cell_type": "code",
   "execution_count": 21,
   "outputs": [
    {
     "name": "stdout",
     "output_type": "stream",
     "text": [
      "--2022-09-07 19:42:55--  https://downloads.sourceforge.net/project/ta-lib/ta-lib/0.4.0/ta-lib-0.4.0-src.tar.gz\r\n",
      "Resolving downloads.sourceforge.net (downloads.sourceforge.net)... 204.68.111.105\r\n",
      "Connecting to downloads.sourceforge.net (downloads.sourceforge.net)|204.68.111.105|:443... connected.\r\n",
      "HTTP request sent, awaiting response... 302 Found\r\n",
      "Location: https://altushost-swe.dl.sourceforge.net/project/ta-lib/ta-lib/0.4.0/ta-lib-0.4.0-src.tar.gz [following]\r\n",
      "--2022-09-07 19:42:57--  https://altushost-swe.dl.sourceforge.net/project/ta-lib/ta-lib/0.4.0/ta-lib-0.4.0-src.tar.gz\r\n",
      "Resolving altushost-swe.dl.sourceforge.net (altushost-swe.dl.sourceforge.net)... 79.142.76.130\r\n",
      "Connecting to altushost-swe.dl.sourceforge.net (altushost-swe.dl.sourceforge.net)|79.142.76.130|:443... connected.\r\n",
      "HTTP request sent, awaiting response... 200 OK\r\n",
      "Length: 1330299 (1.3M) [application/x-gzip]\r\n",
      "Saving to: ‘ta-lib-0.4.0-src.tar.gz’\r\n",
      "\r\n",
      "ta-lib-0.4.0-src.ta   6%[>                   ]  79.76K  --.-KB/s    in 81s     \r\n",
      "\r\n",
      "2022-09-07 19:44:38 (1006 B/s) - Connection closed at byte 81678. Retrying.\r\n",
      "\r\n",
      "--2022-09-07 19:44:39--  (try: 2)  https://altushost-swe.dl.sourceforge.net/project/ta-lib/ta-lib/0.4.0/ta-lib-0.4.0-src.tar.gz\r\n",
      "Connecting to altushost-swe.dl.sourceforge.net (altushost-swe.dl.sourceforge.net)|79.142.76.130|:443... connected.\r\n",
      "HTTP request sent, awaiting response... 206 Partial Content\r\n",
      "Length: 1330299 (1.3M), 1248621 (1.2M) remaining [application/x-gzip]\r\n",
      "Saving to: ‘ta-lib-0.4.0-src.tar.gz’\r\n",
      "\r\n",
      "ta-lib-0.4.0-src.ta  11%[+>                  ] 143.49K  --.-KB/s    eta 44m 32s^C\r\n",
      "\r\n",
      "gzip: stdin: unexpected end of file\r\n",
      "tar: Unexpected EOF in archive\r\n",
      "tar: Unexpected EOF in archive\r\n",
      "tar: Error is not recoverable: exiting now\r\n",
      "/workspace/habr/jeezy/ta-lib\n",
      "configure: error: cannot find sources (src/ta_func/ta_AD.c) in . or ..\r\n",
      "make: *** No targets specified and no makefile found.  Stop.\r\n",
      "[sudo] password for akumidv: \r\n",
      "[Errno 2] No such file or directory: '/content'\n",
      "/workspace/habr/jeezy/ta-lib\n"
     ]
    }
   ],
   "source": [
    "# TA-LIB\n",
    "!wget https://downloads.sourceforge.net/project/ta-lib/ta-lib/0.4.0/ta-lib-0.4.0-src.tar.gz\n",
    "!tar -xzf ta-lib-0.4.0-src.tar.gz\n",
    "%cd ta-lib/\n",
    "!./configure --prefix=/usr\n",
    "!make\n",
    "!sudo make install\n",
    "%cd /content\n"
   ],
   "metadata": {
    "collapsed": false,
    "pycharm": {
     "name": "#%%\n"
    }
   }
  },
  {
   "cell_type": "code",
   "execution_count": 22,
   "outputs": [
    {
     "name": "stdout",
     "output_type": "stream",
     "text": [
      "^C\r\n",
      "Traceback (most recent call last):\r\n",
      "  File \"/workspace/habr/jeezy/.venv/bin/pip\", line 5, in <module>\r\n",
      "    from pip._internal.cli.main import main\r\n",
      "  File \"/workspace/habr/jeezy/.venv/lib/python3.9/site-packages/pip/_internal/cli/main.py\", line 9, in <module>\r\n",
      "    from pip._internal.cli.autocompletion import autocomplete\r\n",
      "  File \"/workspace/habr/jeezy/.venv/lib/python3.9/site-packages/pip/_internal/cli/autocompletion.py\", line 10, in <module>\r\n",
      "    from pip._internal.cli.main_parser import create_main_parser\r\n",
      "  File \"/workspace/habr/jeezy/.venv/lib/python3.9/site-packages/pip/_internal/cli/main_parser.py\", line 8, in <module>\r\n",
      "    from pip._internal.cli import cmdoptions\r\n",
      "  File \"/workspace/habr/jeezy/.venv/lib/python3.9/site-packages/pip/_internal/cli/cmdoptions.py\", line 23, in <module>\r\n",
      "    from pip._internal.cli.parser import ConfigOptionParser\r\n",
      "  File \"/workspace/habr/jeezy/.venv/lib/python3.9/site-packages/pip/_internal/cli/parser.py\", line 12, in <module>\r\n",
      "    from pip._internal.configuration import Configuration, ConfigurationError\r\n",
      "  File \"/workspace/habr/jeezy/.venv/lib/python3.9/site-packages/pip/_internal/configuration.py\", line 20, in <module>\r\n",
      "    from pip._internal.exceptions import (\r\n",
      "  File \"/workspace/habr/jeezy/.venv/lib/python3.9/site-packages/pip/_internal/exceptions.py\", line 8, in <module>\r\n",
      "    from pip._vendor.requests.models import Request, Response\r\n",
      "  File \"/workspace/habr/jeezy/.venv/lib/python3.9/site-packages/pip/_vendor/requests/__init__.py\", line 50, in <module>\r\n",
      "    from pip._vendor.chardet import __version__ as chardet_version\r\n",
      "  File \"/workspace/habr/jeezy/.venv/lib/python3.9/site-packages/pip/_vendor/chardet/__init__.py\", line 19, in <module>\r\n",
      "    from .universaldetector import UniversalDetector\r\n",
      "  File \"/workspace/habr/jeezy/.venv/lib/python3.9/site-packages/pip/_vendor/chardet/universaldetector.py\", line 45, in <module>\r\n",
      "    from .escprober import EscCharSetProber\r\n",
      "  File \"/workspace/habr/jeezy/.venv/lib/python3.9/site-packages/pip/_vendor/chardet/escprober.py\", line 31, in <module>\r\n",
      "    from .escsm import (HZ_SM_MODEL, ISO2022CN_SM_MODEL, ISO2022JP_SM_MODEL,\r\n",
      "  File \"<frozen importlib._bootstrap>\", line 1007, in _find_and_load\r\n",
      "  File \"<frozen importlib._bootstrap>\", line 986, in _find_and_load_unlocked\r\n",
      "  File \"<frozen importlib._bootstrap>\", line 666, in _load_unlocked\r\n",
      "  File \"<frozen importlib._bootstrap>\", line 571, in module_from_spec\r\n",
      "  File \"<frozen importlib._bootstrap>\", line 550, in _init_module_attrs\r\n",
      "  File \"<frozen importlib._bootstrap>\", line 391, in cached\r\n",
      "  File \"<frozen importlib._bootstrap_external>\", line 494, in _get_cached\r\n",
      "  File \"<frozen importlib._bootstrap_external>\", line 387, in cache_from_source\r\n",
      "KeyboardInterrupt\r\n",
      "^C\r\n",
      "\u001B[31mERROR: Operation cancelled by user\u001B[0m\r\n",
      "\u001B[33mWARNING: You are using pip version 21.3.1; however, version 22.2.2 is available.\r\n",
      "You should consider upgrading via the '/workspace/habr/jeezy/.venv/bin/python -m pip install --upgrade pip' command.\u001B[0m\r\n"
     ]
    }
   ],
   "source": [
    "\n",
    "#\n",
    "!pip uninstall -y matplotlib imgaug\n",
    "!pip install backtrader matplotlib==3.2.2 seaborn TA-Lib hyperopt backtrader-plotting"
   ],
   "metadata": {
    "collapsed": false,
    "pycharm": {
     "name": "#%%\n"
    }
   }
  },
  {
   "cell_type": "code",
   "execution_count": 5,
   "outputs": [],
   "source": [
    "import timeit\n",
    "import sys\n",
    "import datetime\n",
    "import time\n",
    "import re\n",
    "import glob\n",
    "from functools import partial\n",
    "\n",
    "import matplotlib\n",
    "import matplotlib.pyplot as plt\n",
    "import seaborn as sns\n",
    "import plotly.express as px\n",
    "\n",
    "import pandas as pd\n",
    "\n",
    "import backtrader as bt  # Import the backtrader platform\n",
    "from backtrader_plotting import Bokeh\n",
    "\n",
    "import requests\n",
    "import json\n",
    "import numpy as np\n",
    "\n",
    "IS_IN_COLAB = 'google.colab' in sys.modules\n"
   ],
   "metadata": {
    "collapsed": false,
    "pycharm": {
     "name": "#%%\n"
    }
   }
  },
  {
   "cell_type": "markdown",
   "source": [
    "# BASE PARAMETERS\n"
   ],
   "metadata": {
    "collapsed": false,
    "pycharm": {
     "name": "#%% md\n"
    }
   }
  },
  {
   "cell_type": "code",
   "execution_count": 28,
   "outputs": [],
   "source": [
    "# BASE PARAMETERS\n",
    "\n"
   ],
   "metadata": {
    "collapsed": false,
    "pycharm": {
     "name": "#%%\n"
    }
   }
  },
  {
   "cell_type": "code",
   "execution_count": 6,
   "outputs": [],
   "source": [
    "#@title TICKET AND DATAFRAME\n",
    "# DODOUSDTPERP\n",
    "TICKER = \"BTCUSDT\" #@param {type:\"string\"}\n",
    "TIME_FRAME = \"15m\" #@param {type:\"string\"}\n",
    "FROM_DATE = \"2018-08-01\" #@param {type:\"string\"}\n",
    "ITERATIONS = 100 #@param {type:\"integer\"}\n",
    "#@markdown Commision (%) (default: 0.1%)\n",
    "COMMISSION_PRST = 0.1 #@param {type:\"number\"}\n",
    "COMMISSION = COMMISSION_PRST / 100\n"
   ],
   "metadata": {
    "collapsed": false,
    "pycharm": {
     "name": "#%%\n"
    }
   }
  },
  {
   "cell_type": "markdown",
   "source": [
    "# GET DATA\n"
   ],
   "metadata": {
    "collapsed": false,
    "pycharm": {
     "name": "#%% md\n"
    }
   }
  },
  {
   "cell_type": "code",
   "execution_count": 7,
   "outputs": [
    {
     "name": "stdout",
     "output_type": "stream",
     "text": [
      "Get 1000 candles for BTCUSDT:15m from the datetime 2018-07-31 14:00:00\n",
      "Get 1000 candles for BTCUSDT:15m from the datetime 2019-09-19 03:44:59\n",
      "Get 1000 candles for BTCUSDT:15m from the datetime 2019-09-29 13:44:59\n",
      "Get 1000 candles for BTCUSDT:15m from the datetime 2019-10-09 23:44:59\n",
      "Get 1000 candles for BTCUSDT:15m from the datetime 2019-10-20 09:44:59\n",
      "Get 1000 candles for BTCUSDT:15m from the datetime 2019-10-30 19:44:59\n",
      "Get 1000 candles for BTCUSDT:15m from the datetime 2019-11-10 05:44:59\n",
      "Get 1000 candles for BTCUSDT:15m from the datetime 2019-11-20 15:44:59\n",
      "Get 1000 candles for BTCUSDT:15m from the datetime 2019-12-01 01:44:59\n",
      "Get 1000 candles for BTCUSDT:15m from the datetime 2019-12-11 11:44:59\n",
      "Get 1000 candles for BTCUSDT:15m from the datetime 2019-12-21 21:44:59\n",
      "Get 1000 candles for BTCUSDT:15m from the datetime 2020-01-01 07:44:59\n",
      "Get 1000 candles for BTCUSDT:15m from the datetime 2020-01-11 17:44:59\n",
      "Get 1000 candles for BTCUSDT:15m from the datetime 2020-01-22 03:44:59\n",
      "Get 1000 candles for BTCUSDT:15m from the datetime 2020-02-01 13:44:59\n",
      "Get 1000 candles for BTCUSDT:15m from the datetime 2020-02-11 23:44:59\n",
      "Get 1000 candles for BTCUSDT:15m from the datetime 2020-02-22 09:44:59\n",
      "Get 1000 candles for BTCUSDT:15m from the datetime 2020-03-03 19:44:59\n",
      "Get 1000 candles for BTCUSDT:15m from the datetime 2020-03-14 05:44:59\n",
      "Get 1000 candles for BTCUSDT:15m from the datetime 2020-03-24 15:44:59\n",
      "Get 1000 candles for BTCUSDT:15m from the datetime 2020-04-04 01:44:59\n",
      "Get 1000 candles for BTCUSDT:15m from the datetime 2020-04-14 11:44:59\n",
      "Get 1000 candles for BTCUSDT:15m from the datetime 2020-04-24 21:44:59\n",
      "Get 1000 candles for BTCUSDT:15m from the datetime 2020-05-05 07:44:59\n",
      "Get 1000 candles for BTCUSDT:15m from the datetime 2020-05-15 17:44:59\n",
      "Get 1000 candles for BTCUSDT:15m from the datetime 2020-05-26 03:44:59\n",
      "Get 1000 candles for BTCUSDT:15m from the datetime 2020-06-05 13:44:59\n",
      "Get 1000 candles for BTCUSDT:15m from the datetime 2020-06-15 23:44:59\n",
      "Get 1000 candles for BTCUSDT:15m from the datetime 2020-06-26 09:44:59\n",
      "Get 1000 candles for BTCUSDT:15m from the datetime 2020-07-06 19:44:59\n",
      "Get 1000 candles for BTCUSDT:15m from the datetime 2020-07-17 05:44:59\n",
      "Get 1000 candles for BTCUSDT:15m from the datetime 2020-07-27 15:44:59\n",
      "Get 1000 candles for BTCUSDT:15m from the datetime 2020-08-07 01:44:59\n",
      "Get 1000 candles for BTCUSDT:15m from the datetime 2020-08-17 11:44:59\n",
      "Get 1000 candles for BTCUSDT:15m from the datetime 2020-08-27 21:44:59\n",
      "Get 1000 candles for BTCUSDT:15m from the datetime 2020-09-07 07:44:59\n",
      "Get 1000 candles for BTCUSDT:15m from the datetime 2020-09-17 17:44:59\n",
      "Get 1000 candles for BTCUSDT:15m from the datetime 2020-09-28 03:44:59\n",
      "Get 1000 candles for BTCUSDT:15m from the datetime 2020-10-08 13:44:59\n",
      "Get 1000 candles for BTCUSDT:15m from the datetime 2020-10-18 23:44:59\n",
      "Get 1000 candles for BTCUSDT:15m from the datetime 2020-10-29 09:44:59\n",
      "Get 1000 candles for BTCUSDT:15m from the datetime 2020-11-08 19:44:59\n",
      "Get 1000 candles for BTCUSDT:15m from the datetime 2020-11-19 05:44:59\n",
      "Get 1000 candles for BTCUSDT:15m from the datetime 2020-11-29 15:44:59\n",
      "Get 1000 candles for BTCUSDT:15m from the datetime 2020-12-10 01:44:59\n",
      "Get 1000 candles for BTCUSDT:15m from the datetime 2020-12-20 11:44:59\n",
      "Get 1000 candles for BTCUSDT:15m from the datetime 2020-12-30 21:44:59\n",
      "Get 1000 candles for BTCUSDT:15m from the datetime 2021-01-10 07:44:59\n",
      "Get 1000 candles for BTCUSDT:15m from the datetime 2021-01-20 17:44:59\n",
      "Get 1000 candles for BTCUSDT:15m from the datetime 2021-01-31 03:44:59\n",
      "Get 1000 candles for BTCUSDT:15m from the datetime 2021-02-10 13:44:59\n",
      "Get 1000 candles for BTCUSDT:15m from the datetime 2021-02-20 23:44:59\n",
      "Get 1000 candles for BTCUSDT:15m from the datetime 2021-03-03 09:44:59\n",
      "Get 1000 candles for BTCUSDT:15m from the datetime 2021-03-13 19:44:59\n",
      "Get 1000 candles for BTCUSDT:15m from the datetime 2021-03-24 05:44:59\n",
      "Get 1000 candles for BTCUSDT:15m from the datetime 2021-04-03 15:44:59\n",
      "Get 1000 candles for BTCUSDT:15m from the datetime 2021-04-14 01:44:59\n",
      "Get 1000 candles for BTCUSDT:15m from the datetime 2021-04-24 11:44:59\n",
      "Get 1000 candles for BTCUSDT:15m from the datetime 2021-05-04 21:44:59\n",
      "Get 1000 candles for BTCUSDT:15m from the datetime 2021-05-15 07:44:59\n",
      "Get 1000 candles for BTCUSDT:15m from the datetime 2021-05-25 17:44:59\n",
      "Get 1000 candles for BTCUSDT:15m from the datetime 2021-06-05 03:44:59\n",
      "Get 1000 candles for BTCUSDT:15m from the datetime 2021-06-15 13:44:59\n",
      "Get 1000 candles for BTCUSDT:15m from the datetime 2021-06-25 23:44:59\n",
      "Get 1000 candles for BTCUSDT:15m from the datetime 2021-07-06 09:44:59\n",
      "Get 1000 candles for BTCUSDT:15m from the datetime 2021-07-16 19:44:59\n",
      "Get 1000 candles for BTCUSDT:15m from the datetime 2021-07-27 05:44:59\n",
      "Get 1000 candles for BTCUSDT:15m from the datetime 2021-08-06 15:44:59\n",
      "Get 1000 candles for BTCUSDT:15m from the datetime 2021-08-17 01:44:59\n",
      "Get 1000 candles for BTCUSDT:15m from the datetime 2021-08-27 11:44:59\n",
      "Get 1000 candles for BTCUSDT:15m from the datetime 2021-09-06 21:44:59\n",
      "Get 1000 candles for BTCUSDT:15m from the datetime 2021-09-17 07:44:59\n",
      "Get 1000 candles for BTCUSDT:15m from the datetime 2021-09-27 17:44:59\n",
      "Get 1000 candles for BTCUSDT:15m from the datetime 2021-10-08 03:44:59\n",
      "Get 1000 candles for BTCUSDT:15m from the datetime 2021-10-18 13:44:59\n",
      "Get 1000 candles for BTCUSDT:15m from the datetime 2021-10-28 23:44:59\n",
      "Get 1000 candles for BTCUSDT:15m from the datetime 2021-11-08 09:44:59\n",
      "Get 1000 candles for BTCUSDT:15m from the datetime 2021-11-18 19:44:59\n",
      "Get 1000 candles for BTCUSDT:15m from the datetime 2021-11-29 05:44:59\n",
      "Get 1000 candles for BTCUSDT:15m from the datetime 2021-12-09 15:44:59\n",
      "Get 1000 candles for BTCUSDT:15m from the datetime 2021-12-20 01:44:59\n",
      "Get 1000 candles for BTCUSDT:15m from the datetime 2021-12-30 11:44:59\n",
      "Get 1000 candles for BTCUSDT:15m from the datetime 2022-01-09 21:44:59\n",
      "Get 1000 candles for BTCUSDT:15m from the datetime 2022-01-20 07:44:59\n",
      "Get 1000 candles for BTCUSDT:15m from the datetime 2022-01-30 17:44:59\n",
      "Get 1000 candles for BTCUSDT:15m from the datetime 2022-02-10 03:44:59\n",
      "Get 1000 candles for BTCUSDT:15m from the datetime 2022-02-20 13:44:59\n",
      "Get 1000 candles for BTCUSDT:15m from the datetime 2022-03-02 23:44:59\n",
      "Get 1000 candles for BTCUSDT:15m from the datetime 2022-03-13 09:44:59\n",
      "Get 1000 candles for BTCUSDT:15m from the datetime 2022-03-23 19:44:59\n",
      "Get 1000 candles for BTCUSDT:15m from the datetime 2022-04-03 05:44:59\n",
      "Get 1000 candles for BTCUSDT:15m from the datetime 2022-04-13 15:44:59\n",
      "Get 1000 candles for BTCUSDT:15m from the datetime 2022-04-24 01:44:59\n",
      "Get 1000 candles for BTCUSDT:15m from the datetime 2022-05-04 11:44:59\n",
      "Get 1000 candles for BTCUSDT:15m from the datetime 2022-05-14 21:44:59\n",
      "Get 1000 candles for BTCUSDT:15m from the datetime 2022-05-25 07:44:59\n",
      "Get 1000 candles for BTCUSDT:15m from the datetime 2022-06-04 17:44:59\n",
      "Get 1000 candles for BTCUSDT:15m from the datetime 2022-06-15 03:44:59\n",
      "Get 1000 candles for BTCUSDT:15m from the datetime 2022-06-25 13:44:59\n",
      "Get 1000 candles for BTCUSDT:15m from the datetime 2022-07-05 23:44:59\n",
      "Get 1000 candles for BTCUSDT:15m from the datetime 2022-07-16 09:44:59\n",
      "Get 1000 candles for BTCUSDT:15m from the datetime 2022-07-26 19:44:59\n",
      "Get 1000 candles for BTCUSDT:15m from the datetime 2022-08-06 05:44:59\n",
      "Get 1000 candles for BTCUSDT:15m from the datetime 2022-08-16 15:44:59\n",
      "Get 1000 candles for BTCUSDT:15m from the datetime 2022-08-27 01:44:59\n",
      "Get 1000 candles for BTCUSDT:15m from the datetime 2022-09-06 11:44:59\n"
     ]
    }
   ],
   "source": [
    "\n",
    "# init data\n",
    "\n",
    "FN_TICKERS_REGEXP = f'({TICKER}\\,\\s*{TIME_FRAME}\\.csv$)|({TICKER}_{TIME_FRAME}.csv$)'\n",
    "all_dir = glob.glob('./*.csv', recursive=False) + glob.glob('./data/*.csv', recursive=False)\n",
    "files_for_ticker = [fn for fn in all_dir if re.search(FN_TICKERS_REGEXP, fn, re.I)]\n",
    "is_data_has_volume = True\n",
    "\n",
    "max_val = 0\n",
    "\n",
    "if files_for_ticker:\n",
    "    datapath = files_for_ticker[0]\n",
    "    df = pd.read_csv(datapath, header=0, encoding='utf-8', sep=',')\n",
    "    df['time'] = pd.to_datetime(df['time'], unit='s')\n",
    "    is_data_has_volume = 'volume' in df.columns\n",
    "    df_filtered = df[df['time'] > pd.to_datetime(FROM_DATE)]\n",
    "    df = df_filtered.reset_index().set_index('time')\n",
    "    # max_val = df['high'].max()\n",
    "    # data = TVPandasData(dataname=df, name=TICKER.lower())\n",
    "else:\n",
    "    from_date_val = datetime.datetime.fromisoformat(FROM_DATE)\n",
    "    start_time = int(from_date_val.timestamp() * 1000)\n",
    "\n",
    "    df = pd.DataFrame(columns=['time', 'open', 'high', 'low', 'close', 'volume'])\n",
    "    opentime, lopen, lhigh, llow, lclose, lvol, closetime = [], [], [], [], [], [], []\n",
    "\n",
    "    cur_time = datetime.datetime.utcnow().replace(minute=0, second=0, microsecond=0)\n",
    "    # cur_time = cur_time.replace(minute=0, second=0, microsecond=0)\n",
    "    cur_time = int(cur_time.timestamp()) * 1000 - 1\n",
    "\n",
    "    if 'perp' in TICKER.lower():\n",
    "        api_url = f'https://fapi.binance.com/fapi/v1/continuousKlines?pair={TICKER[:-len(\"perp\")]}&interval={TIME_FRAME.lower()}&contractType=PERPETUAL&limit=1000'\n",
    "    else:\n",
    "        api_url = f'https://fapi.binance.com/fapi/v1/klines?symbol={TICKER}&interval={TIME_FRAME.lower()}&limit=1000'\n",
    "    while start_time < cur_time:\n",
    "        print(f'Get 1000 candles for {TICKER}:{TIME_FRAME} from the datetime {datetime.datetime.utcfromtimestamp(int(start_time / 1000))}')\n",
    "        sym_info = requests.get(f\"{api_url}&startTime={start_time}\")\n",
    "        if (sym_info.status_code == 429):\n",
    "            raise InterruptedError(f'Limits is violated')\n",
    "        elif (sym_info.status_code != 200):\n",
    "            raise InterruptedError(f'Error for request. Code {sym_info.status_code}')\n",
    "        candles = json.loads(sym_info.text)\n",
    "        for candle in candles:\n",
    "            opentime.append(candle[0])\n",
    "            lopen.append(candle[1])\n",
    "            lhigh.append(candle[2])\n",
    "            llow.append(candle[3])\n",
    "            lclose.append(candle[4])\n",
    "            lvol.append(candle[5])\n",
    "            closetime.append(candle[6])\n",
    "        start_time = closetime[-1]\n",
    "        time.sleep(0.25)\n",
    "\n",
    "    df['open_time'] = pd.to_datetime(opentime, unit='ms', origin='unix')\n",
    "    df['time'] = df['open_time'].apply(lambda x: int(x.timestamp()))\n",
    "    df['open'] = np.array(lopen).astype(float)\n",
    "    df['high'] = np.array(lhigh).astype(float)\n",
    "    df['low'] = np.array(llow).astype(float)\n",
    "    df['close'] = np.array(lclose).astype(float)\n",
    "    df['volume'] = np.array(lvol).astype(float)\n",
    "    df.to_csv(f'./{TICKER}, {TIME_FRAME}.csv', header=True, index=False, date_format='%s', encoding='utf-8',\n",
    "              sep=',')\n",
    "    df['time'] = df['open_time']\n",
    "    df.set_index('time', inplace=True)\n",
    "    # max_val = df['high'].max()\n",
    "    is_data_has_volume = 'volume' in df.columns\n",
    "    # data = TVPandasData(dataname=df, name=TICKER.lower())\n",
    "\n",
    "max_val = df['high'].max()\n",
    "class TVPandasData(bt.feeds.PandasData):\n",
    "    params = (\n",
    "        ('datetime', None),\n",
    "        ('open', 'open'),\n",
    "        ('high', 'high'),\n",
    "        ('low', 'low'),\n",
    "        ('close', 'close'),\n",
    "        ('volume', 'volume' if is_data_has_volume else None),\n",
    "        ('openinterest', None),\n",
    "    )\n",
    "data = TVPandasData(dataname=df, name=TICKER.lower())\n",
    "\n"
   ],
   "metadata": {
    "collapsed": false,
    "pycharm": {
     "name": "#%%\n"
    }
   }
  },
  {
   "cell_type": "markdown",
   "source": [
    "# Base strategy parameters\n"
   ],
   "metadata": {
    "collapsed": false,
    "pycharm": {
     "name": "#%% md\n"
    }
   }
  },
  {
   "cell_type": "code",
   "execution_count": 31,
   "outputs": [],
   "source": [
    "\n",
    "base_param = {\n",
    "    'stake': 2, #  Calculate from persentage of LongQtyPrcnt, Now it 50%\n",
    "    'commission': COMMISSION,\n",
    "    'money_start': max_val * 10 if max_val != 0 else 1000000,\n",
    "    'slip_perc': 0.005, # TODO Slippage https://www.backtrader.com/docu/slippage/slippage/\n",
    "    'StartDateTime': FROM_DATE,  # Start Time\n",
    "    'EndDateTime': None  # End Time\n",
    "}\n"
   ],
   "metadata": {
    "collapsed": false,
    "pycharm": {
     "name": "#%%\n"
    }
   }
  },
  {
   "cell_type": "markdown",
   "source": [
    "# Strategy parameters\n",
    "# Strategy"
   ],
   "metadata": {
    "collapsed": false,
    "pycharm": {
     "name": "#%% md\n"
    }
   }
  },
  {
   "cell_type": "code",
   "execution_count": 32,
   "outputs": [],
   "source": [
    "class MAcrossover(bt.Strategy):\n",
    "    # Moving average parameters\n",
    "    params = (('pfast', 10), ('pslow', 20),)\n",
    "\n",
    "    def log(self, txt, dt=None):\n",
    "        dt = dt or self.datas[0].datetime.date(0)\n",
    "        # print(f'{len(self)} {dt.isoformat()} {txt}')  # Comment this line when running optimization\n",
    "\n",
    "    def __init__(self):\n",
    "        self.dataclose = self.datas[0].close\n",
    "\n",
    "        # Order variable will contain ongoing order details/status\n",
    "        self.order = None\n",
    "\n",
    "        # Instantiate moving averages\n",
    "        self.slow_sma = bt.ind.MovingAverageSimple(self.datas[0],\n",
    "                                                   period=self.params.pslow)\n",
    "        self.fast_sma = bt.ind.MovingAverageSimple(self.datas[0],\n",
    "                                                   period=self.params.pfast)\n",
    "\n",
    "        self.crossover = bt.ind.CrossOver(self.fast_sma, self.slow_sma)\n",
    "\n",
    "    def notify_order(self, order):\n",
    "        if order.status in [order.Submitted, order.Accepted]:\n",
    "            # An active Buy/Sell order has been submitted/accepted - Nothing to do\n",
    "            return\n",
    "\n",
    "        # Check if an order has been completed\n",
    "        # Attention: broker could reject order if not enough cash\n",
    "        if order.status in [order.Completed]:\n",
    "            if order.isbuy():\n",
    "                self.log(f'BUY EXECUTED, {order.executed.price:.2f}')\n",
    "            elif order.issell():\n",
    "                self.log(f'SELL EXECUTED, {order.executed.price:.2f}')\n",
    "            self.bar_executed = len(self)\n",
    "\n",
    "        elif order.status in [order.Canceled, order.Margin, order.Rejected]:\n",
    "            self.log('Order Canceled/Margin/Rejected')\n",
    "\n",
    "        # Reset orders\n",
    "        self.order = None\n",
    "\n",
    "    def next(self):\n",
    "        # Check for open orders\n",
    "        if self.order:\n",
    "            return\n",
    "\n",
    "        # Check if we are in the market\n",
    "        if not self.position:\n",
    "            # We are not in the market, look for a signal to OPEN trades\n",
    "\n",
    "            # If the 20 SMA is above the 50 SMA\n",
    "            if self.crossover > 0:  # Fast ma crosses above slow ma\n",
    "                # if self.fast_sma[0] > self.slow_sma[0] and self.fast_sma[-1] < self.slow_sma[-1]:\n",
    "                self.log(f'BUY CREATE {self.dataclose[0]:2f}')\n",
    "                # Keep track of the created order to avoid a 2nd order\n",
    "                self.order = self.buy()\n",
    "            # Otherwise if the 20 SMA is below the 50 SMA\n",
    "            elif self.crossover < 0:  # Fast ma crosses below slow ma\n",
    "                # elif self.fast_sma[0] < self.slow_sma[0] and self.fast_sma[-1] > self.slow_sma[-1]:\n",
    "                self.log(f'SELL CREATE {self.dataclose[0]:2f}')\n",
    "                # Keep track of the created order to avoid a 2nd order\n",
    "                self.order = self.sell()\n",
    "        else:\n",
    "            # We are already in the market, look for a signal to CLOSE trades\n",
    "            if len(self) >= (self.bar_executed + 5):\n",
    "                self.log(f'CLOSE CREATE {self.dataclose[0]:2f}')\n",
    "                self.order = self.close()\n",
    "\n",
    "    def stop(self):\n",
    "        self.log(\n",
    "            f'(MA Period fast: {self.params.pfast}, MA Period slow: {self.params.pslow}  Ending Value {self.broker.getvalue()}')\n",
    "\n",
    "\n"
   ],
   "metadata": {
    "collapsed": false,
    "pycharm": {
     "name": "#%%\n"
    }
   }
  },
  {
   "cell_type": "markdown",
   "source": [
    "# Backtester functions\n"
   ],
   "metadata": {
    "collapsed": false,
    "pycharm": {
     "name": "#%% md\n"
    }
   }
  },
  {
   "cell_type": "code",
   "execution_count": 33,
   "outputs": [],
   "source": [
    "\n",
    "def get_cerebro(data, base_param, vp):\n",
    "    cerebro = bt.Cerebro(optreturn=True, preload=True, runonce=True)\n",
    "    cerebro.adddata(data)\n",
    "\n",
    "    # TODO only need analyzer that used for strategy optimization(!)\n",
    "    cerebro.addsizer(bt.sizers.FixedSize, stake=base_param['stake'])\n",
    "    # cerebro.addanalyzer(bt.analyzers.SharpeRatio, _name='sharpe_ratio')\n",
    "    cerebro.addanalyzer(bt.analyzers.DrawDown, _name='drawdown')\n",
    "    cerebro.addanalyzer(bt.analyzers.TradeAnalyzer, _name='trades')\n",
    "    cerebro.addstrategy(MAcrossover, **vp)\n",
    "    cerebro.broker = bt.brokers.BackBroker(cash=base_param['money_start'],\n",
    "                                           slip_perc=base_param['slip_perc'])  # https://www.backtrader.com/docu/slippage/slippage/\n",
    "    cerebro.broker.setcommission(commission=base_param['commission'])\n",
    "\n",
    "    return cerebro\n",
    "\n",
    "def runStrategy(data, base_param, vp):\n",
    "    cerebro = get_cerebro(data, base_param, vp)\n",
    "    stats = cerebro.run()\n",
    "    net_profit = round(cerebro.broker.get_value() - base_param['money_start'], 2)\n",
    "    # sharp =  stats[0].analyzers.sharpe_ratio.get_analysis() # -(stats[0].analyzers.sharpe_ratio.get_analysis()),\n",
    "    # cerebro.plot(style='candlestick')\n",
    "\n",
    "    # sharpe = stats[0].analyzers.sharpe_ratio.get_analysis()\n",
    "    # drawdown = stats[0].analyzers.drawdown.get_analysis()\n",
    "    trades = stats[0].analyzers.trades.get_analysis()\n",
    "    # AnnualReturn = strategy.analyzers.AnnualReturn.get_analysis() # Calmar = strategy.analyzers.Calmar.get_analysis() # DrawDown = strategy.analyzers.DrawDown.get_analysis()\n",
    "    stats_res = {\n",
    "        'net_profit': net_profit,\n",
    "        'profit': cerebro.broker.get_value(),\n",
    "        'profit_rate': round(net_profit / base_param['money_start'] * 100, 2),\n",
    "        # 'sharpe': sharpe['sharperatio'],\n",
    "        # 'drawdown': drawdown['drawdown'], # max.moneydown # https://www.backtrader.com/docu/analyzers-reference/#drawdown\n",
    "        # 'drawdown_money': drawdown['moneydown'],\n",
    "        # 'drawdown_len': drawdown['len'],\n",
    "        # 'drawdown_max': drawdown['max']['drawdown'],\n",
    "        # 'drawdown_max_money': drawdown['max']['moneydown'],\n",
    "        # 'trades_total': stats[0].wintrades[-1] + stats[0].losstrades[-1] + stats[0].eventrades[-1],\n",
    "        # 'trades_win': stats[0].wintrades[-1],\n",
    "        # 'trades_loss': stats[0].losstrades[-1] + stats[0].eventrades[-1]\n",
    "        'trades_total': trades['total']['total'] # https://www.backtrader.com/docu/analyzers-reference/#tradeanalyzer\n",
    "        }\n",
    "    del cerebro\n",
    "    del stats\n",
    "\n",
    "    return {\n",
    "        # 'loss': -(net_profit - drawdown['max']['moneydown']) if type(net_profit) != type(None) else base_param['money_start'],\n",
    "        'stats': stats_res,\n",
    "        'params': vp\n",
    "    }"
   ],
   "metadata": {
    "collapsed": false,
    "pycharm": {
     "name": "#%%\n"
    }
   }
  },
  {
   "cell_type": "markdown",
   "source": [
    "\n",
    "# RUN STRATEGY\n"
   ],
   "metadata": {
    "collapsed": false,
    "pycharm": {
     "name": "#%% md\n"
    }
   }
  },
  {
   "cell_type": "code",
   "execution_count": 34,
   "outputs": [
    {
     "name": "stdout",
     "output_type": "stream",
     "text": [
      "{'stats': {'net_profit': -19212.5, 'profit': 232787.4982, 'profit_rate': -7.62, 'trades_total': 185}, 'params': {'pfast': 9, 'pslow': 21}}\n"
     ]
    }
   ],
   "source": [
    "best_param = ({'pfast': 9, 'pslow': 21})\n",
    "\n",
    "\n",
    "partialRunStrategy = partial(runStrategy, data, base_param)\n",
    "# cycles = 5\n",
    "# rest_time=timeit.timeit(lambda: runStrategy(data, base_param, best_param), number=cycles)\n",
    "# print(rest_time, rest_time/cycles)\n",
    "res = partialRunStrategy(best_param)\n",
    "\n",
    "print(res)"
   ],
   "metadata": {
    "collapsed": false,
    "pycharm": {
     "name": "#%%\n"
    }
   }
  },
  {
   "cell_type": "code",
   "execution_count": 35,
   "outputs": [
    {
     "ename": "ImportError",
     "evalue": "cannot import name 'warnings' from 'matplotlib.dates' (/workspace/habr/jeezy/.venv/lib/python3.9/site-packages/matplotlib/dates.py)",
     "output_type": "error",
     "traceback": [
      "\u001B[0;31m---------------------------------------------------------------------------\u001B[0m",
      "\u001B[0;31mImportError\u001B[0m                               Traceback (most recent call last)",
      "Cell \u001B[0;32mIn [35], line 10\u001B[0m\n\u001B[1;32m      8\u001B[0m     cerebro\u001B[38;5;241m.\u001B[39mplot(b, volume\u001B[38;5;241m=\u001B[39mis_data_has_volume)\n\u001B[1;32m      9\u001B[0m \u001B[38;5;28;01melse\u001B[39;00m:\n\u001B[0;32m---> 10\u001B[0m     \u001B[43mcerebro\u001B[49m\u001B[38;5;241;43m.\u001B[39;49m\u001B[43mplot\u001B[49m\u001B[43m(\u001B[49m\u001B[43mstyle\u001B[49m\u001B[38;5;241;43m=\u001B[39;49m\u001B[38;5;124;43m'\u001B[39;49m\u001B[38;5;124;43mcandlestick\u001B[39;49m\u001B[38;5;124;43m'\u001B[39;49m\u001B[43m,\u001B[49m\u001B[43m \u001B[49m\u001B[43miplot\u001B[49m\u001B[38;5;241;43m=\u001B[39;49m\u001B[38;5;28;43;01mFalse\u001B[39;49;00m\u001B[43m)\u001B[49m\n",
      "File \u001B[0;32m/workspace/habr/jeezy/.venv/lib/python3.9/site-packages/backtrader/cerebro.py:974\u001B[0m, in \u001B[0;36mCerebro.plot\u001B[0;34m(self, plotter, numfigs, iplot, start, end, width, height, dpi, tight, use, **kwargs)\u001B[0m\n\u001B[1;32m    971\u001B[0m     \u001B[38;5;28;01mreturn\u001B[39;00m\n\u001B[1;32m    973\u001B[0m \u001B[38;5;28;01mif\u001B[39;00m \u001B[38;5;129;01mnot\u001B[39;00m plotter:\n\u001B[0;32m--> 974\u001B[0m     \u001B[38;5;28;01mfrom\u001B[39;00m \u001B[38;5;21;01m.\u001B[39;00m \u001B[38;5;28;01mimport\u001B[39;00m plot\n\u001B[1;32m    975\u001B[0m     \u001B[38;5;28;01mif\u001B[39;00m \u001B[38;5;28mself\u001B[39m\u001B[38;5;241m.\u001B[39mp\u001B[38;5;241m.\u001B[39moldsync:\n\u001B[1;32m    976\u001B[0m         plotter \u001B[38;5;241m=\u001B[39m plot\u001B[38;5;241m.\u001B[39mPlot_OldSync(\u001B[38;5;241m*\u001B[39m\u001B[38;5;241m*\u001B[39mkwargs)\n",
      "File \u001B[0;32m/workspace/habr/jeezy/.venv/lib/python3.9/site-packages/backtrader/plot/__init__.py:42\u001B[0m\n\u001B[1;32m     36\u001B[0m     \u001B[38;5;28;01mexcept\u001B[39;00m:\n\u001B[1;32m     37\u001B[0m         \u001B[38;5;66;03m# if another backend has already been loaded, an exception will be\u001B[39;00m\n\u001B[1;32m     38\u001B[0m         \u001B[38;5;66;03m# generated and this can be skipped\u001B[39;00m\n\u001B[1;32m     39\u001B[0m         \u001B[38;5;28;01mpass\u001B[39;00m\n\u001B[0;32m---> 42\u001B[0m \u001B[38;5;28;01mfrom\u001B[39;00m \u001B[38;5;21;01m.\u001B[39;00m\u001B[38;5;21;01mplot\u001B[39;00m \u001B[38;5;28;01mimport\u001B[39;00m Plot, Plot_OldSync\n\u001B[1;32m     43\u001B[0m \u001B[38;5;28;01mfrom\u001B[39;00m \u001B[38;5;21;01m.\u001B[39;00m\u001B[38;5;21;01mscheme\u001B[39;00m \u001B[38;5;28;01mimport\u001B[39;00m PlotScheme\n",
      "File \u001B[0;32m/workspace/habr/jeezy/.venv/lib/python3.9/site-packages/backtrader/plot/plot.py:44\u001B[0m\n\u001B[1;32m     42\u001B[0m \u001B[38;5;28;01mfrom\u001B[39;00m \u001B[38;5;21;01m.\u001B[39;00m\u001B[38;5;21;01mfinance\u001B[39;00m \u001B[38;5;28;01mimport\u001B[39;00m plot_candlestick, plot_ohlc, plot_volume, plot_lineonclose\n\u001B[1;32m     43\u001B[0m \u001B[38;5;28;01mfrom\u001B[39;00m \u001B[38;5;21;01m.\u001B[39;00m\u001B[38;5;21;01mformatters\u001B[39;00m \u001B[38;5;28;01mimport\u001B[39;00m (MyVolFormatter, MyDateFormatter, getlocator)\n\u001B[0;32m---> 44\u001B[0m \u001B[38;5;28;01mfrom\u001B[39;00m \u001B[38;5;21;01m.\u001B[39;00m \u001B[38;5;28;01mimport\u001B[39;00m locator \u001B[38;5;28;01mas\u001B[39;00m loc\n\u001B[1;32m     45\u001B[0m \u001B[38;5;28;01mfrom\u001B[39;00m \u001B[38;5;21;01m.\u001B[39;00m\u001B[38;5;21;01mmulticursor\u001B[39;00m \u001B[38;5;28;01mimport\u001B[39;00m MultiCursor\n\u001B[1;32m     46\u001B[0m \u001B[38;5;28;01mfrom\u001B[39;00m \u001B[38;5;21;01m.\u001B[39;00m\u001B[38;5;21;01mscheme\u001B[39;00m \u001B[38;5;28;01mimport\u001B[39;00m PlotScheme\n",
      "File \u001B[0;32m/workspace/habr/jeezy/.venv/lib/python3.9/site-packages/backtrader/plot/locator.py:35\u001B[0m\n\u001B[1;32m     32\u001B[0m \u001B[38;5;28;01mfrom\u001B[39;00m \u001B[38;5;21;01mmatplotlib\u001B[39;00m\u001B[38;5;21;01m.\u001B[39;00m\u001B[38;5;21;01mdates\u001B[39;00m \u001B[38;5;28;01mimport\u001B[39;00m RRuleLocator \u001B[38;5;28;01mas\u001B[39;00m RRLocator\n\u001B[1;32m     33\u001B[0m \u001B[38;5;28;01mfrom\u001B[39;00m \u001B[38;5;21;01mmatplotlib\u001B[39;00m\u001B[38;5;21;01m.\u001B[39;00m\u001B[38;5;21;01mdates\u001B[39;00m \u001B[38;5;28;01mimport\u001B[39;00m AutoDateFormatter \u001B[38;5;28;01mas\u001B[39;00m ADFormatter\n\u001B[0;32m---> 35\u001B[0m \u001B[38;5;28;01mfrom\u001B[39;00m \u001B[38;5;21;01mmatplotlib\u001B[39;00m\u001B[38;5;21;01m.\u001B[39;00m\u001B[38;5;21;01mdates\u001B[39;00m \u001B[38;5;28;01mimport\u001B[39;00m (HOURS_PER_DAY, MIN_PER_HOUR, SEC_PER_MIN,\n\u001B[1;32m     36\u001B[0m                               MONTHS_PER_YEAR, DAYS_PER_WEEK,\n\u001B[1;32m     37\u001B[0m                               SEC_PER_HOUR, SEC_PER_DAY,\n\u001B[1;32m     38\u001B[0m                               num2date, rrulewrapper, YearLocator,\n\u001B[1;32m     39\u001B[0m                               MicrosecondLocator, warnings)\n\u001B[1;32m     41\u001B[0m \u001B[38;5;28;01mfrom\u001B[39;00m \u001B[38;5;21;01mdateutil\u001B[39;00m\u001B[38;5;21;01m.\u001B[39;00m\u001B[38;5;21;01mrelativedelta\u001B[39;00m \u001B[38;5;28;01mimport\u001B[39;00m relativedelta\n\u001B[1;32m     42\u001B[0m \u001B[38;5;28;01mimport\u001B[39;00m \u001B[38;5;21;01mnumpy\u001B[39;00m \u001B[38;5;28;01mas\u001B[39;00m \u001B[38;5;21;01mnp\u001B[39;00m\n",
      "\u001B[0;31mImportError\u001B[0m: cannot import name 'warnings' from 'matplotlib.dates' (/workspace/habr/jeezy/.venv/lib/python3.9/site-packages/matplotlib/dates.py)"
     ]
    }
   ],
   "source": [
    "#%matplotlib inline\n",
    "# Draw the best parameters strategy results\n",
    "\n",
    "cerebro = get_cerebro(data, base_param, best_param)\n",
    "stats = cerebro.run()\n",
    "if IS_IN_COLAB:\n",
    "    b = Bokeh(style='bar', plot_mode='single')\n",
    "    cerebro.plot(b, volume=is_data_has_volume)\n",
    "else:\n",
    "    cerebro.plot(style='candlestick', iplot=False)\n",
    "\n"
   ],
   "metadata": {
    "collapsed": false,
    "pycharm": {
     "name": "#%%\n"
    }
   }
  },
  {
   "cell_type": "code",
   "execution_count": null,
   "outputs": [],
   "source": [],
   "metadata": {
    "collapsed": false,
    "pycharm": {
     "name": "#%%\n"
    }
   }
  }
 ],
 "metadata": {
  "kernelspec": {
   "display_name": "Python 3",
   "language": "python",
   "name": "python3"
  },
  "language_info": {
   "codemirror_mode": {
    "name": "ipython",
    "version": 2
   },
   "file_extension": ".py",
   "mimetype": "text/x-python",
   "name": "python",
   "nbconvert_exporter": "python",
   "pygments_lexer": "ipython2",
   "version": "2.7.6"
  }
 },
 "nbformat": 4,
 "nbformat_minor": 0
}